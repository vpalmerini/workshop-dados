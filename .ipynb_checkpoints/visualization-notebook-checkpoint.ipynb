{
 "cells": [
  {
   "cell_type": "code",
   "execution_count": null,
   "metadata": {},
   "outputs": [],
   "source": [
    "import pandas as pd\n",
    "import seaborn as sns\n",
    "from matplotlib import pyplot as plt"
   ]
  },
  {
   "cell_type": "code",
   "execution_count": null,
   "metadata": {},
   "outputs": [],
   "source": [
    "# set the plot background to white\n",
    "sns.set(style='whitegrid')"
   ]
  },
  {
   "cell_type": "code",
   "execution_count": null,
   "metadata": {},
   "outputs": [],
   "source": [
    "# age\n",
    "age = df['Idade']\n",
    "ax = sns.countplot(x='Idade', data=age)"
   ]
  },
  {
   "cell_type": "code",
   "execution_count": null,
   "metadata": {},
   "outputs": [],
   "source": [
    "# gender\n",
    "labels = 'M', 'F'\n",
    "M = df.loc[df['Gênero'] == 'M']\n",
    "F = df.loc[df['Gênero'] == 'F']\n",
    "sizes = [len(M), len(F)]\n",
    "\n",
    "fig1, ax1 = plt.subplots()\n",
    "ax1.pie(sizes, labels=labels, autopct='%1.1f%%',startangle=90, colors=['#009FB7', '#912F40'])\n",
    "ax1.axis('equal')"
   ]
  },
  {
   "cell_type": "code",
   "execution_count": null,
   "metadata": {},
   "outputs": [],
   "source": [
    "# cities\n",
    "ax = sns.countplot(y='Cidade', data=df, order=df['Cidade'].value_counts().index[:10])"
   ]
  },
  {
   "cell_type": "code",
   "execution_count": null,
   "metadata": {},
   "outputs": [],
   "source": [
    "# courses\n",
    "ax = sns.countplot(y='Curso', data=df, order=df['Curso'].value_counts().index[:10])"
   ]
  },
  {
   "cell_type": "code",
   "execution_count": null,
   "metadata": {},
   "outputs": [],
   "source": [
    "# enroll year\n",
    "ax = sns.countplot(y='AnoDeEntrada', data=df, order=df['AnoDeEntrada'].value_counts().index[:5])"
   ]
  },
  {
   "cell_type": "code",
   "execution_count": null,
   "metadata": {},
   "outputs": [],
   "source": [
    "# universities\n",
    "ax = sns.countplot(y='Faculdade', data=df, order=df['Faculdade'].value_counts().index[:10])"
   ]
  },
  {
   "cell_type": "code",
   "execution_count": null,
   "metadata": {},
   "outputs": [],
   "source": [
    "# english level\n",
    "labels = ['Básico', 'Intermediário', 'Avançado']\n",
    "basico = df.loc[df['Inglês'] == 'basic']\n",
    "intermediario = df.loc[df['Inglês'] == 'intermediate']\n",
    "avancado = df.loc[df['Inglês'] == 'advanced']\n",
    "sizes = [len(basico), len(intermediario), len(avancado)]\n",
    "\n",
    "fig1, ax1 = plt.subplots()\n",
    "ax1.pie(sizes, labels=labels, autopct='%1.1f%%', startangle=90, colors=['#58A4B0', '#FA9F42', '#6CC551'])\n",
    "ax1.axis('equal')"
   ]
  },
  {
   "cell_type": "code",
   "execution_count": null,
   "metadata": {},
   "outputs": [],
   "source": [
    "# excel level\n",
    "labels = ['Básico', 'Intermediário', 'Avançado']\n",
    "basico = df.loc[df['Excel'] == 'basic']\n",
    "intermediario = df.loc[df['Excel'] == 'intermediate']\n",
    "avancado = df.loc[df['Excel'] == 'advanced']\n",
    "sizes = [len(basico), len(intermediario), len(avancado)]\n",
    "\n",
    "fig1, ax1 = plt.subplots()\n",
    "ax1.pie(sizes, labels=labels, autopct='%1.1f%%', startangle=90, colors=['#58A4B0', '#FA9F42', '#6CC551'])\n",
    "ax1.axis('equal')"
   ]
  },
  {
   "cell_type": "code",
   "execution_count": null,
   "metadata": {},
   "outputs": [],
   "source": [
    "# referencies\n",
    "ax = sns.countplot(y='Referência', data=df, order=df['Referência'].value_counts().index[:5])"
   ]
  },
  {
   "cell_type": "code",
   "execution_count": null,
   "metadata": {},
   "outputs": [],
   "source": [
    "# education\n",
    "df = df.loc[df['Escolaridade'] != '']\n",
    "df = df.loc[df['Escolaridade'] != 'Brazil']\n",
    "df = df.loc[df['Escolaridade'] != 'Ensino Fundamental']\n",
    "ax = sns.countplot(y='Escolaridade', data=df, order=df['Escolaridade'].value_counts().index[:5])"
   ]
  },
  {
   "cell_type": "code",
   "execution_count": null,
   "metadata": {},
   "outputs": [],
   "source": [
    "# companies\n",
    "labels = ['Financeiro', 'Consultoria', 'Indústria', 'Assessoria/Recrutamento']\n",
    "sizes = [1, 5, 27, 5]\n",
    "fig1, ax1 = plt.subplots()\n",
    "ax1.pie(sizes, labels=labels, autopct='%1.1f%%', startangle=90, colors=['#58A4B0', '#FA9F42', '#6CC551', '#F1BF98'])\n",
    "ax1.axis('equal')"
   ]
  },
  {
   "cell_type": "code",
   "execution_count": null,
   "metadata": {},
   "outputs": [],
   "source": [
    "# first time?\n",
    "labels = ['Sim', 'Não']\n",
    "sim = df.loc[df['Primeira Vez'] == True]\n",
    "nao = df.loc[df['Primeira Vez'] == False]\n",
    "sizes = [len(sim), len(nao)]\n",
    "fig1, ax1 = plt.subplots()\n",
    "ax1.pie(sizes, labels=labels, autopct='%1.1f%%',startangle=90, colors=['#FA9F42', '#58A4B0'])\n",
    "ax1.axis('equal')"
   ]
  }
 ],
 "metadata": {
  "kernelspec": {
   "display_name": "Python 3",
   "language": "python",
   "name": "python3"
  },
  "language_info": {
   "codemirror_mode": {
    "name": "ipython",
    "version": 3
   },
   "file_extension": ".py",
   "mimetype": "text/x-python",
   "name": "python",
   "nbconvert_exporter": "python",
   "pygments_lexer": "ipython3",
   "version": "3.6.4"
  }
 },
 "nbformat": 4,
 "nbformat_minor": 2
}
