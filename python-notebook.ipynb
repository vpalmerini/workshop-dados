{
 "cells": [
  {
   "cell_type": "code",
   "execution_count": 1,
   "metadata": {},
   "outputs": [
    {
     "name": "stdout",
     "output_type": "stream",
     "text": [
      "hello world\n"
     ]
    }
   ],
   "source": [
    "# hello world\n",
    "print('hello world')"
   ]
  },
  {
   "cell_type": "code",
   "execution_count": 2,
   "metadata": {},
   "outputs": [
    {
     "name": "stdout",
     "output_type": "stream",
     "text": [
      "hello world\n"
     ]
    }
   ],
   "source": [
    "# variáveis\n",
    "mensagem = 'hello world'\n",
    "print(mensagem)"
   ]
  },
  {
   "cell_type": "code",
   "execution_count": 5,
   "metadata": {},
   "outputs": [
    {
     "name": "stdout",
     "output_type": "stream",
     "text": [
      "Victor Palmerini\n",
      "VICTOR PALMERINI\n",
      "victor palmerini\n"
     ]
    }
   ],
   "source": [
    "# mudando case\n",
    "nome = \"victor palmerini\"\n",
    "print(nome.title())\n",
    "print(nome.upper())\n",
    "print(nome.lower())"
   ]
  },
  {
   "cell_type": "code",
   "execution_count": 8,
   "metadata": {},
   "outputs": [
    {
     "name": "stdout",
     "output_type": "stream",
     "text": [
      "victor palmerini\n",
      "Hello Victor Palmerini!\n",
      "Hello Victor Palmerini!\n"
     ]
    }
   ],
   "source": [
    "# concatenando strings\n",
    "primeiro_nome = 'victor'\n",
    "ultimo_nome = 'palmerini'\n",
    "\n",
    "nome_completo = primeiro_nome + ' ' + ultimo_nome\n",
    "print(nome_completo)\n",
    "print('Hello' + ' ' + nome_completo.title() + '!')\n",
    "\n",
    "hello = 'Hello' + ' ' + nome_completo.title() + '!'\n",
    "print(hello)"
   ]
  },
  {
   "cell_type": "code",
   "execution_count": 10,
   "metadata": {},
   "outputs": [
    {
     "name": "stdout",
     "output_type": "stream",
     "text": [
      "5\n",
      "1\n",
      "6\n",
      "1.5\n",
      "1\n",
      "9\n"
     ]
    }
   ],
   "source": [
    "# operações básicas\n",
    "soma = 2 + 3\n",
    "subtracao = 3 - 2\n",
    "multiplicacao = 2*3\n",
    "divisao_decimal = 3/2\n",
    "divisao_inteira = 3//2\n",
    "potencia = 3**2\n",
    "\n",
    "print(soma)\n",
    "print(subtracao)\n",
    "print(multiplicacao)\n",
    "print(divisao_decimal)\n",
    "print(divisao_inteira)\n",
    "print(potencia)"
   ]
  },
  {
   "cell_type": "code",
   "execution_count": 12,
   "metadata": {},
   "outputs": [
    {
     "data": {
      "text/plain": [
       "int"
      ]
     },
     "execution_count": 12,
     "metadata": {},
     "output_type": "execute_result"
    }
   ],
   "source": [
    "# tipos\n",
    "type(soma)\n",
    "type(nome_completo)\n",
    "type(divisao_decimal)\n",
    "type(divisao_inteira)"
   ]
  },
  {
   "cell_type": "code",
   "execution_count": null,
   "metadata": {},
   "outputs": [],
   "source": [
    "# listas\n",
    "frutas = ['maçã', 'banana', 'abacate', 'laranja', 'melancia']\n",
    "print(frutas[1])\n",
    "print(frutas[0].title())\n",
    "print(frutas[-1])\n",
    "print(frutas[-2])\n",
    "\n",
    "mensagem = 'Minha fruta preferida é' + frutas[-1].title()\n",
    "print(mensagem)"
   ]
  },
  {
   "cell_type": "code",
   "execution_count": null,
   "metadata": {},
   "outputs": [],
   "source": [
    "# modificando elementos de uma lista\n",
    "frutas[-1] = 'manga'\n",
    "print(frutas)\t\t\t# fruits = ['maçã', 'banana', 'abacate', 'laranja', 'manga']\n",
    "\n",
    "# adicionando\n",
    "frutas.append('abacaxi')\n",
    "print(frutas)\t\t\t# fruits = ['maçã', 'banana', 'abacate', 'laranja', 'manga', 'abacaxi']\n",
    "\n",
    "frutas.insert(0, 'figo')\n",
    "print(frutas)\t\t\t# fruits = ['figo', 'maçã', 'banana', 'abacate', 'laranja', 'manga', 'abacaxi']\n",
    "\n",
    "# removendo\n",
    "ultima_fruta = frutas.pop()\n",
    "print(ultima_fruta)\t\t# fruits = ['figo', 'maçã', 'banana', 'abacate', 'laranja', 'manga']\n",
    "\n",
    "fruta_qualquer = frutas.pop(2)\n",
    "print(fruta_qualquer)\t# fruits = ['figo', 'maçã', 'abacate', 'laranja', 'manga']\n",
    "\n",
    "fruta.remove('abacate')\n",
    "print(fruits)\n",
    "\n",
    "fruta_ruim = 'figo'\n",
    "fruta.remove(fruta_ruim) # fruits = ['maçã', 'abacate', 'laranja', 'manga']"
   ]
  },
  {
   "cell_type": "code",
   "execution_count": null,
   "metadata": {},
   "outputs": [],
   "source": [
    "# ordenação\n",
    "frutas_ordenadas = fruta.sort()\n",
    "print(frutas_ordenadas)\n",
    "print(frutas)\n",
    "\n",
    "# ordenação reversa\n",
    "frutas_reversas = frutas.reverse()\n",
    "print(frutas_reversas)\n",
    "print(frutas)\n",
    "\n",
    "# tamanho do vetor\n",
    "tamanho_frutas = len(frutas)\n",
    "print(tamanho_frutas)"
   ]
  },
  {
   "cell_type": "code",
   "execution_count": null,
   "metadata": {},
   "outputs": [],
   "source": [
    "# laços\n",
    "for fruta in frutas:\n",
    "\tprint(fruta)\n",
    "\n",
    "for i in range(len(frutas)):\n",
    "\tprint(fruta[i])\n",
    "\n",
    "for i in range(2,len(frutas)):\n",
    "\tprint(frutas)\n",
    "\n",
    "numeros = list(range(1,11))\n",
    "\n",
    "for numero in numeros:\n",
    "\tprint(numero)\n",
    "\n",
    "numero_pares = list(range(1,11,2))\n",
    "\n",
    "for fruta in frutas:\n",
    "\tprint('Gosto muito de' + fruta.title())\n",
    "\n",
    "print('Acabou o laço!')\n",
    "\n",
    "\n",
    "quadrados = []\n",
    "for i in range(1,11):\n",
    "\tquadrado = i**2\n",
    "\tquadrados.append(quadrado)\n",
    "\n",
    "print(quadrados)\n",
    "\n",
    "print(min(quadrados))\n",
    "print(max(quadrados))\n",
    "print(sum(quadrados))\n",
    "\n",
    "\n",
    "print(frutas[0:2])\n",
    "print(frutas[:2])\n",
    "print(frutas[2:])\n",
    "print(frutas[2:3])\n",
    "\n",
    "for fruta in frutas[:2]:\n",
    "\tprint('Só gosto de ' + fruta)"
   ]
  },
  {
   "cell_type": "code",
   "execution_count": null,
   "metadata": {},
   "outputs": [],
   "source": [
    "# condicionais\n",
    "for fruta in frutas:\n",
    "\tif fruta == 'laranja':\n",
    "\t\tprint(fruta.upper())\n",
    "\telse:\n",
    "\t\tprint(fruta.title())\n",
    "\n",
    "for fruta in frutas:\n",
    "\tif len(fruta) > 4:\n",
    "\t\tprint('Essa fruta tem nome curto:' + fruta.lower())\n",
    "\telse:\n",
    "\t\tprint('Essa fruta tem nome longo:' + fruta.upper())\n",
    "\n",
    "manga_boolean = 'maçã' in frutas\n",
    "print(manga_boolean)\n",
    "\n",
    "for fruta in frutas:\n",
    "\tif len(fruta) < 5:\n",
    "\t\tprint(fruta.lower())\n",
    "\telif len(fruta) < 7:\n",
    "\t\tprint(fruta.title())\n",
    "\telse:\n",
    "\t\tprint(fruta.upper())"
   ]
  },
  {
   "cell_type": "code",
   "execution_count": null,
   "metadata": {},
   "outputs": [],
   "source": [
    "# funções\n",
    "def hello_world():\n",
    "\tprint('hello world')\n",
    "\n",
    "hello_world()\n",
    "\n",
    "\n",
    "def printa_mensagem(mensagem):\n",
    "\tprint(mensagem)\n",
    "\n",
    "printa_mensagem('Olar')\n",
    "\n",
    "saudação = 'Olá, como está você?'\n",
    "printa_mensagem(saudação)"
   ]
  },
  {
   "cell_type": "code",
   "execution_count": null,
   "metadata": {},
   "outputs": [],
   "source": [
    "def formata_nome(primeiro_nome, ultimo_nome):\n",
    "\tnome_completo = primeiro_nome.title() + ' ' + ultimo_nome.title()\n",
    "\treturn nome_completo\n",
    "\n",
    "nome = formata_nome('victor', 'palmerini')\n",
    "print(nome)\n",
    "\n",
    "primeiro = 'gustavo'\n",
    "ultimo = 'soares'\n",
    "print(formata_nome(primeiro, ultimo))"
   ]
  },
  {
   "cell_type": "code",
   "execution_count": null,
   "metadata": {},
   "outputs": [],
   "source": [
    "def percorre_lista(lista):\n",
    "\tfor elemento in lista:\n",
    "\t\tprint(elemento)\n",
    "\n",
    "percorre_lista()\n",
    "\n",
    "\n",
    "def limpa_lista(lista):\n",
    "\twhile(lista):\n",
    "\t\tlista.pop()\n",
    "\n",
    "limpa_lista(frutas)\n",
    "print(frutas)"
   ]
  }
 ],
 "metadata": {
  "kernelspec": {
   "display_name": "Python 3",
   "language": "python",
   "name": "python3"
  },
  "language_info": {
   "codemirror_mode": {
    "name": "ipython",
    "version": 3
   },
   "file_extension": ".py",
   "mimetype": "text/x-python",
   "name": "python",
   "nbconvert_exporter": "python",
   "pygments_lexer": "ipython3",
   "version": "3.6.4"
  }
 },
 "nbformat": 4,
 "nbformat_minor": 2
}
